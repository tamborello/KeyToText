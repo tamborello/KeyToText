{
 "cells": [
  {
   "cell_type": "markdown",
   "metadata": {},
   "source": [
    "<h1>KeyToText</h1>\n",
    "\n",
    "Can we generate text from keywords and also include those keywords in the text?\n",
    "\n",
    "[keytotext](https://pypi.org/project/keytotext/) at pypi\n",
    "\n",
    "[Generating Sentences from Keywords using Transformers in NLP](https://medium.com/mlearning-ai/generating-sentences-from-keywords-using-transformers-in-nlp-e89f4de5cf6b)"
   ]
  },
  {
   "cell_type": "code",
   "execution_count": 6,
   "metadata": {},
   "outputs": [
    {
     "name": "stderr",
     "output_type": "stream",
     "text": [
      "Downloading: 100%|██████████| 1.17k/1.17k [00:00<00:00, 300kB/s]\n",
      "Downloading: 100%|██████████| 1.32M/1.32M [00:00<00:00, 4.69MB/s]\n",
      "Downloading: 100%|██████████| 850M/850M [00:12<00:00, 73.2MB/s]\n"
     ]
    },
    {
     "data": {
      "text/plain": [
       "'The capital of India is New Delhi.'"
      ]
     },
     "execution_count": 6,
     "metadata": {},
     "output_type": "execute_result"
    }
   ],
   "source": [
    "from keytotext import pipeline\n",
    "\n",
    "nlp = pipeline(\"k2t-base\")\n",
    "\n",
    "nlp(['India', 'Capital', 'New Delhi'])"
   ]
  },
  {
   "cell_type": "code",
   "execution_count": 8,
   "metadata": {},
   "outputs": [
    {
     "data": {
      "text/plain": [
       "\"'England' is an ingredient in 'Epplant'.\""
      ]
     },
     "execution_count": 8,
     "metadata": {},
     "output_type": "execute_result"
    }
   ],
   "source": [
    "nlp(['Enhance', 'Eggplant'])"
   ]
  },
  {
   "cell_type": "code",
   "execution_count": 9,
   "metadata": {},
   "outputs": [
    {
     "data": {
      "text/plain": [
       "'Touch of Love is a song from the album Touch Of Love.'"
      ]
     },
     "execution_count": 9,
     "metadata": {},
     "output_type": "execute_result"
    }
   ],
   "source": [
    "nlp(['Touch of Love'])"
   ]
  },
  {
   "cell_type": "code",
   "execution_count": 10,
   "metadata": {},
   "outputs": [
    {
     "data": {
      "text/plain": [
       "'Money is the currency in the country.'"
      ]
     },
     "execution_count": 10,
     "metadata": {},
     "output_type": "execute_result"
    }
   ],
   "source": [
    "nlp(['Money'])"
   ]
  },
  {
   "cell_type": "code",
   "execution_count": 11,
   "metadata": {},
   "outputs": [
    {
     "data": {
      "text/plain": [
       "'The eggplant is one of the ingredients in the dish, which can be found in an increase from the previous year.'"
      ]
     },
     "execution_count": 11,
     "metadata": {},
     "output_type": "execute_result"
    }
   ],
   "source": [
    "nlp(['eggplant', 'pills', 'enhance'])"
   ]
  },
  {
   "cell_type": "code",
   "execution_count": 20,
   "metadata": {},
   "outputs": [
    {
     "name": "stderr",
     "output_type": "stream",
     "text": [
      "c:\\Users\\frank\\Documents\\KeyToText\\.venv\\lib\\site-packages\\transformers\\generation_utils.py:2142: UserWarning: __floordiv__ is deprecated, and its behavior will change in a future version of pytorch. It currently rounds toward 0 (like the 'trunc' function NOT 'floor'). This results in incorrect rounding for negative values. To keep the current behavior, use torch.div(a, b, rounding_mode='trunc'), or for actual floor division, use torch.div(a, b, rounding_mode='floor').\n",
      "  next_indices = next_tokens // vocab_size\n"
     ]
    },
    {
     "name": "stdout",
     "output_type": "stream",
     "text": [
      "The capital of India is Delhi and the country is the location of the Amdavad\n",
      "The main ingredient of A.E Dimitra Efxeinou is tomatoes, which\n",
      "The money used in the international transfer is money.\n",
      "The International|Trans-Transat currency is the currency of the United States.\n"
     ]
    }
   ],
   "source": [
    "params = {\"do_sample\":True, \"num_beams\":4, \"no_repeat_ngram_size\":3, \"early_stopping\":True}    #decoding params\n",
    "print(nlp(['Delhi', 'India', 'capital'], **params)) \n",
    "print(nlp(['enhance', 'eggplant'], **params))  #keywords\n",
    "print(nlp(['business', 'proposition', 'money', 'funds', 'international', 'transfer'], **params))\n",
    "print(nlp(['international', 'transfer', 'business', 'proposition', 'money', 'funds'], **params))"
   ]
  }
 ],
 "metadata": {
  "interpreter": {
   "hash": "12391058d49f8cbb6e23b2a0ba22237d11cb5f05d2405458a7a1d9791cfd628f"
  },
  "kernelspec": {
   "display_name": "Python 3.8.10 64-bit ('.venv': venv)",
   "language": "python",
   "name": "python3"
  },
  "language_info": {
   "codemirror_mode": {
    "name": "ipython",
    "version": 3
   },
   "file_extension": ".py",
   "mimetype": "text/x-python",
   "name": "python",
   "nbconvert_exporter": "python",
   "pygments_lexer": "ipython3",
   "version": "3.8.10"
  },
  "orig_nbformat": 4
 },
 "nbformat": 4,
 "nbformat_minor": 2
}
